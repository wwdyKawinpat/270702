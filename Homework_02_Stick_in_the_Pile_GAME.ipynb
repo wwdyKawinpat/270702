{
  "nbformat": 4,
  "nbformat_minor": 0,
  "metadata": {
    "colab": {
      "name": "Homework 02 : Stick in the Pile GAME",
      "provenance": []
    },
    "kernelspec": {
      "name": "python3",
      "display_name": "Python 3"
    },
    "language_info": {
      "name": "python"
    }
  },
  "cells": [
    {
      "cell_type": "code",
      "execution_count": 80,
      "metadata": {
        "colab": {
          "base_uri": "https://localhost:8080/"
        },
        "id": "jQJpgm6SK07V",
        "outputId": "e6d1967d-9e99-45b9-b539-82434b213797"
      },
      "outputs": [
        {
          "output_type": "stream",
          "name": "stdout",
          "text": [
            "How many sticks (N) in the pile: 10\n",
            "There are  10  sticks in the pile\n",
            "What is your name: O\n",
            "O, How many sticks you will take (1 or 2): -10\n",
            "No you cannot take more less than 1 stick!\n",
            "O, How many sticks you will take (1 or 2): -5\n",
            "No you cannot take more less than 1 stick!\n",
            "O, How many sticks you will take (1 or 2): 10\n",
            "No you cannot take more than 2 sticks!\n",
            "O, How many sticks you will take (1 or 2): 2\n",
            "There are 8  left in the pile.\n",
            "O, How many sticks you will take (1 or 2): 2\n",
            "There are 6  left in the pile.\n",
            "O, How many sticks you will take (1 or 2): 2\n",
            "There are 4  left in the pile.\n",
            "O, How many sticks you will take (1 or 2): 2\n",
            "There are 2  left in the pile.\n",
            "O, How many sticks you will take (1 or 2): 1\n",
            "There are 1  left in the pile.\n",
            "O, How many sticks you will take (1 or 2): 1\n",
            "OK. There is no stick left in the pile. You spent 6 times.\n"
          ]
        }
      ],
      "source": [
        "x = int(input(\"How many sticks (N) in the pile: \"))\n",
        "print(\"There are \",x,\" sticks in the pile\")\n",
        "name = input(\"What is your name: \")\n",
        "y = int(input(name+\", How many sticks you will take (1 or 2): \"))\n",
        "count = 0\n",
        "\n",
        "while x>0:\n",
        "    if y> 2:\n",
        "        print(\"No you cannot take more than 2 sticks!\")\n",
        "        y = int(input(name+\", How many sticks you will take (1 or 2): \"))\n",
        "    elif y<=0:\n",
        "        print(\"No you cannot take more less than 1 stick!\")\n",
        "        y = int(input(name+\", How many sticks you will take (1 or 2): \"))\n",
        "    elif y<=2:\n",
        "        x=x-y\n",
        "        count += 1\n",
        "        if x>0:\n",
        "            print(\"There are\", x,\" left in the pile.\")\n",
        "            y = int(input(name+\", How many sticks you will take (1 or 2): \"))\n",
        "        elif x<0:\n",
        "            print(\"There are no enough sticks to take.\")\n",
        "            y = int(input(name+\", How many sticks you will take (1 or 2): \"))\n",
        "        elif x==0: \n",
        "            break\n",
        "print(\"OK. There is no stick left in the pile. You spent\",count, \"times.\")\n",
        "\n"
      ]
    }
  ]
}